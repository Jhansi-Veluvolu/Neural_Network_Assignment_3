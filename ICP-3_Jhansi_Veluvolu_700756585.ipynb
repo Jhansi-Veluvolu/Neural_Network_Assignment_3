{
 "cells": [
  {
   "cell_type": "code",
   "execution_count": null,
   "id": "db1601a3",
   "metadata": {},
   "outputs": [],
   "source": [
    "'''1. Create a class Employee and then do the following\n",
    "• Create a data member to count the number of Employees\n",
    "• Create a constructor to initialize name, family, salary, department\n",
    "• Create a function to average salary\n",
    "• Create a Fulltime Employee class and it should inherit the properties of Employee class\n",
    "• Create the instances of Fulltime Employee class and Employee class and call their member functions.'''"
   ]
  },
  {
   "cell_type": "code",
   "execution_count": 4,
   "id": "ca1fecf1",
   "metadata": {},
   "outputs": [
    {
     "name": "stdout",
     "output_type": "stream",
     "text": [
      "Employee Details: \n",
      "Rakesh Kanmani 15000 IT None\n",
      "Jhansi Teji 35000 Pharmaceuticals None\n",
      "Rishi Smiley 50000 Finance True\n",
      "\n",
      "Total Employees: 3\n",
      "Average Salary: 33333.333333333336\n"
     ]
    }
   ],
   "source": [
    "class Employee:\n",
    "    employee_count = 0\n",
    "    benefits = None\n",
    "    def __init__(self,name,family,salary,department):\n",
    "        self.name = name\n",
    "        self.family = family\n",
    "        self.salary = salary\n",
    "        self.department = department\n",
    "        Employee.employee_count+=1\n",
    "\n",
    "    def avg_salary(employees):\n",
    "        total_salary = sum(emp.salary for emp in employees)\n",
    "        return total_salary/len(employees)\n",
    "\n",
    "class Fulltime_Employee(Employee):\n",
    "    def __init__(self, name, family, salary, department, benefits):\n",
    "        super().__init__(name, family, salary, department)\n",
    "        self.benefits = benefits\n",
    "\n",
    "\n",
    "if __name__=='__main__':\n",
    "    emp1 = Employee('Rakesh','Kanmani',15000,'IT')\n",
    "    emp2 = Employee('Jhansi','Teji',35000,'Pharmaceuticals')\n",
    "    emp3 = Fulltime_Employee('Rishi','Smiley',50000,'Finance',True)\n",
    "\n",
    "    employees = [emp1,emp2,emp3]\n",
    "    print(\"Employee Details: \")\n",
    "    for emp in employees:\n",
    "        print(emp.name,emp.family, emp.salary, emp.department, emp.benefits)\n",
    "\n",
    "    print(\"\\nTotal Employees:\", Employee.employee_count)\n",
    "    print(\"Average Salary:\", Employee.avg_salary(employees))"
   ]
  },
  {
   "cell_type": "code",
   "execution_count": null,
   "id": "bc48c317",
   "metadata": {},
   "outputs": [],
   "source": [
    "'''2. Numpy\n",
    "Using NumPy create random vector of size 20 having only float in the range 1-20.\n",
    "Then reshape the array to 4 by 5\n",
    "Then replace the max in each row by 0 (axis=1)\n",
    "(you can NOT implement it via for loop)'''"
   ]
  },
  {
   "cell_type": "code",
   "execution_count": 5,
   "id": "4c118afd",
   "metadata": {},
   "outputs": [
    {
     "name": "stdout",
     "output_type": "stream",
     "text": [
      "Original Vector Array: \n",
      "\n",
      "[ 5.35308606  9.36605167  4.50163387 17.6294162   3.26348217 18.64596124\n",
      "  2.3482206   2.63693438  7.99687591  2.699411   15.6968606   4.06386514\n",
      " 19.89903844  6.69761357  7.36584444 15.05599152 15.10131841 17.82056695\n",
      " 11.08559262 11.06650929]\n",
      "\n",
      "Reshaped Array with 0 replacing the max in each row: \n",
      "\n",
      "[[ 5.35308606  9.36605167  4.50163387  0.          3.26348217]\n",
      " [ 0.          2.3482206   2.63693438  7.99687591  2.699411  ]\n",
      " [15.6968606   4.06386514  0.          6.69761357  7.36584444]\n",
      " [15.05599152 15.10131841  0.         11.08559262 11.06650929]]\n"
     ]
    }
   ],
   "source": [
    "import numpy as np\n",
    "# Creating a vector of size '20'of float values with range between 1 to 20\n",
    "random_vector = np.random.uniform(1,20,20)\n",
    "# Shaping the array using reshape() function to 4 by 5 matrix\n",
    "reshaped_array = random_vector.copy().reshape(4,5)\n",
    "# Getting the indices of maximum value in each row\n",
    "max_indices = reshaped_array.argmax(axis=1)\n",
    "# Making the max values in each row to zero\n",
    "reshaped_array[np.arange(reshaped_array.shape[0]),max_indices] = 0\n",
    "\n",
    "print(\"Original Vector Array: \\n\")\n",
    "print(random_vector)\n",
    "print(\"\\nReshaped Array with 0 replacing the max in each row: \\n\")\n",
    "print(reshaped_array)"
   ]
  },
  {
   "cell_type": "code",
   "execution_count": null,
   "id": "fe802126",
   "metadata": {},
   "outputs": [],
   "source": []
  }
 ],
 "metadata": {
  "kernelspec": {
   "display_name": "Python 3 (ipykernel)",
   "language": "python",
   "name": "python3"
  },
  "language_info": {
   "codemirror_mode": {
    "name": "ipython",
    "version": 3
   },
   "file_extension": ".py",
   "mimetype": "text/x-python",
   "name": "python",
   "nbconvert_exporter": "python",
   "pygments_lexer": "ipython3",
   "version": "3.9.12"
  }
 },
 "nbformat": 4,
 "nbformat_minor": 5
}
